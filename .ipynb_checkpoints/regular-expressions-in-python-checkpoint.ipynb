{
 "cells": [
  {
   "cell_type": "markdown",
   "metadata": {},
   "source": [
    "## Regular Expression in Python\n",
    "\n",
    "A RegEx, or Regular Expression, is a sequence of characters that forms a search pattern.\n",
    "\n",
    "RegEx can be used to check if a string contains the specified search pattern.\n",
    "\n",
    "\n",
    "Python has a built-in package called re, which can be used to work with Regular Expressions."
   ]
  },
  {
   "cell_type": "code",
   "execution_count": 1,
   "metadata": {},
   "outputs": [
    {
     "name": "stdout",
     "output_type": "stream",
     "text": [
      "Re Version: 2.2.1\n"
     ]
    }
   ],
   "source": [
    "# importing \n",
    "import re\n",
    "\n",
    "# check the version of the re\n",
    "print(f'Re Version: {re.__version__}')"
   ]
  },
  {
   "cell_type": "markdown",
   "metadata": {},
   "source": [
    "### Starts with (  ^  ) and re.search"
   ]
  },
  {
   "cell_type": "code",
   "execution_count": 13,
   "metadata": {},
   "outputs": [
    {
     "name": "stdout",
     "output_type": "stream",
     "text": [
      "\n",
      "Index of the matched keyword: <re.Match object; span=(0, 3), match='Its'>\n",
      "\n",
      "Index of the matched Keyword: None\n"
     ]
    }
   ],
   "source": [
    "# use ^ for starts with\n",
    "\n",
    "txt = \"Its raining in hyd. Its known for software companies\"\n",
    "\n",
    "# if the text starts with Its then it will give the matched indexes\n",
    "print('\\nIndex of the matched keyword:', re.search(\"^Its\", txt))\n",
    "\n",
    "\n",
    "# if the keyword doesn't match it will return None\n",
    "print('\\nIndex of the matched Keyword:', re.search('^The', txt))"
   ]
  },
  {
   "cell_type": "markdown",
   "metadata": {},
   "source": [
    "### Ends with (  $  ) and re.search"
   ]
  },
  {
   "cell_type": "code",
   "execution_count": 24,
   "metadata": {},
   "outputs": [
    {
     "name": "stdout",
     "output_type": "stream",
     "text": [
      "\n",
      "Index of the matched keyword: <re.Match object; span=(43, 52), match='companies'>\n",
      "\n",
      "Index of the matched Keyword: None\n"
     ]
    }
   ],
   "source": [
    "# use ^ for starts with\n",
    "\n",
    "txt = \"Its raining in hyd. Its known for software companies\"\n",
    "\n",
    "# if the text ends with keyword then it will give the matched indexes\n",
    "print('\\nIndex of the matched keyword:', re.search(\"companies$\", txt))\n",
    "\n",
    "\n",
    "# if the keyword doesn't match it will return None\n",
    "print('\\nIndex of the matched Keyword:', re.search('hyd$', txt))"
   ]
  },
  {
   "cell_type": "code",
   "execution_count": null,
   "metadata": {},
   "outputs": [],
   "source": []
  }
 ],
 "metadata": {
  "kernelspec": {
   "display_name": "Python 3",
   "language": "python",
   "name": "python3"
  },
  "language_info": {
   "codemirror_mode": {
    "name": "ipython",
    "version": 3
   },
   "file_extension": ".py",
   "mimetype": "text/x-python",
   "name": "python",
   "nbconvert_exporter": "python",
   "pygments_lexer": "ipython3",
   "version": "3.7.3"
  }
 },
 "nbformat": 4,
 "nbformat_minor": 2
}
